{
 "cells": [
  {
   "cell_type": "code",
   "execution_count": 8,
   "id": "5c0fc2c6",
   "metadata": {},
   "outputs": [],
   "source": [
    "import cv2"
   ]
  },
  {
   "cell_type": "code",
   "execution_count": 11,
   "id": "05cf0dba",
   "metadata": {
    "scrolled": true
   },
   "outputs": [],
   "source": [
    "if __name__ == '__main__':\n",
    "    img = cv2.imread('main.jpg', cv2.IMREAD_GRAYSCALE)\n",
    "    thresh = 132\n",
    "    binary_img = cv2.threshold(img, thresh, 132, cv2.THRESH_BINARY)[1]\n",
    "    cv2.imwrite('main.jpg', binary_img)"
   ]
  },
  {
   "cell_type": "code",
   "execution_count": 12,
   "id": "6c249158",
   "metadata": {},
   "outputs": [
    {
     "data": {
      "text/plain": [
       "True"
      ]
     },
     "execution_count": 12,
     "metadata": {},
     "output_type": "execute_result"
    }
   ],
   "source": [
    "binary_img = cv2.threshold(img, thresh, 132, cv2.THRESH_BINARY)[1]\n",
    "cv2.imwrite('main.jpg', binary_img)"
   ]
  },
  {
   "cell_type": "code",
   "execution_count": null,
   "id": "3e305f46",
   "metadata": {},
   "outputs": [],
   "source": []
  }
 ],
 "metadata": {
  "kernelspec": {
   "display_name": "Python 3 (ipykernel)",
   "language": "python",
   "name": "python3"
  },
  "language_info": {
   "codemirror_mode": {
    "name": "ipython",
    "version": 3
   },
   "file_extension": ".py",
   "mimetype": "text/x-python",
   "name": "python",
   "nbconvert_exporter": "python",
   "pygments_lexer": "ipython3",
   "version": "3.10.4"
  }
 },
 "nbformat": 4,
 "nbformat_minor": 5
}
