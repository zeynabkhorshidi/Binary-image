{
  "nbformat": 4,
  "nbformat_minor": 0,
  "metadata": {
    "colab": {
      "provenance": [],
      "include_colab_link": true
    },
    "kernelspec": {
      "name": "python3",
      "display_name": "Python 3"
    },
    "language_info": {
      "name": "python"
    }
  },
  "cells": [
    {
      "cell_type": "markdown",
      "metadata": {
        "id": "view-in-github",
        "colab_type": "text"
      },
      "source": [
        "<a href=\"https://colab.research.google.com/github/zeynabkhorshidi/Binary-image/blob/main/Quantum.ipynb\" target=\"_parent\"><img src=\"https://colab.research.google.com/assets/colab-badge.svg\" alt=\"Open In Colab\"/></a>"
      ]
    },
    {
      "cell_type": "code",
      "source": [
        "!pip uninstall -y qiskit qiskit-aer qiskit-terra\n",
        "!pip install qiskit==0.39.5"
      ],
      "metadata": {
        "colab": {
          "base_uri": "https://localhost:8080/"
        },
        "id": "Z4imHDGU4eGK",
        "outputId": "df4c7697-dc68-488a-8450-a169b98e40a5"
      },
      "execution_count": 1,
      "outputs": [
        {
          "output_type": "stream",
          "name": "stdout",
          "text": [
            "Found existing installation: qiskit 0.39.5\n",
            "Uninstalling qiskit-0.39.5:\n",
            "  Successfully uninstalled qiskit-0.39.5\n",
            "Found existing installation: qiskit-aer 0.11.2\n",
            "Uninstalling qiskit-aer-0.11.2:\n",
            "  Successfully uninstalled qiskit-aer-0.11.2\n",
            "Found existing installation: qiskit-terra 0.22.4\n",
            "Uninstalling qiskit-terra-0.22.4:\n",
            "  Successfully uninstalled qiskit-terra-0.22.4\n",
            "Collecting qiskit==0.39.5\n",
            "  Using cached qiskit-0.39.5-py3-none-any.whl\n",
            "Collecting qiskit-terra==0.22.4 (from qiskit==0.39.5)\n",
            "  Using cached qiskit_terra-0.22.4-cp311-cp311-manylinux_2_17_x86_64.manylinux2014_x86_64.whl.metadata (9.5 kB)\n",
            "Collecting qiskit-aer==0.11.2 (from qiskit==0.39.5)\n",
            "  Using cached qiskit_aer-0.11.2-cp311-cp311-manylinux_2_17_x86_64.manylinux2014_x86_64.whl.metadata (6.2 kB)\n",
            "Requirement already satisfied: qiskit-ibmq-provider==0.19.2 in /usr/local/lib/python3.11/dist-packages (from qiskit==0.39.5) (0.19.2)\n",
            "Requirement already satisfied: numpy>=1.16.3 in /usr/local/lib/python3.11/dist-packages (from qiskit-aer==0.11.2->qiskit==0.39.5) (2.0.2)\n",
            "Requirement already satisfied: scipy>=1.0 in /usr/local/lib/python3.11/dist-packages (from qiskit-aer==0.11.2->qiskit==0.39.5) (1.15.3)\n",
            "Requirement already satisfied: requests>=2.19 in /usr/local/lib/python3.11/dist-packages (from qiskit-ibmq-provider==0.19.2->qiskit==0.39.5) (2.32.3)\n",
            "Requirement already satisfied: requests-ntlm>=1.1.0 in /usr/local/lib/python3.11/dist-packages (from qiskit-ibmq-provider==0.19.2->qiskit==0.39.5) (1.3.0)\n",
            "Requirement already satisfied: urllib3>=1.21.1 in /usr/local/lib/python3.11/dist-packages (from qiskit-ibmq-provider==0.19.2->qiskit==0.39.5) (2.4.0)\n",
            "Requirement already satisfied: python-dateutil>=2.8.0 in /usr/local/lib/python3.11/dist-packages (from qiskit-ibmq-provider==0.19.2->qiskit==0.39.5) (2.9.0.post0)\n",
            "Requirement already satisfied: websocket-client>=1.0.1 in /usr/local/lib/python3.11/dist-packages (from qiskit-ibmq-provider==0.19.2->qiskit==0.39.5) (1.8.0)\n",
            "Requirement already satisfied: websockets>=10.0 in /usr/local/lib/python3.11/dist-packages (from qiskit-ibmq-provider==0.19.2->qiskit==0.39.5) (15.0.1)\n",
            "Requirement already satisfied: retworkx>=0.11.0 in /usr/local/lib/python3.11/dist-packages (from qiskit-terra==0.22.4->qiskit==0.39.5) (0.16.0)\n",
            "Requirement already satisfied: ply>=3.10 in /usr/local/lib/python3.11/dist-packages (from qiskit-terra==0.22.4->qiskit==0.39.5) (3.11)\n",
            "Requirement already satisfied: psutil>=5 in /usr/local/lib/python3.11/dist-packages (from qiskit-terra==0.22.4->qiskit==0.39.5) (5.9.5)\n",
            "Requirement already satisfied: sympy>=1.3 in /usr/local/lib/python3.11/dist-packages (from qiskit-terra==0.22.4->qiskit==0.39.5) (1.13.1)\n",
            "Requirement already satisfied: dill>=0.3 in /usr/local/lib/python3.11/dist-packages (from qiskit-terra==0.22.4->qiskit==0.39.5) (0.3.7)\n",
            "Requirement already satisfied: stevedore>=3.0.0 in /usr/local/lib/python3.11/dist-packages (from qiskit-terra==0.22.4->qiskit==0.39.5) (5.4.1)\n",
            "Requirement already satisfied: symengine>=0.9 in /usr/local/lib/python3.11/dist-packages (from qiskit-terra==0.22.4->qiskit==0.39.5) (0.14.1)\n",
            "Requirement already satisfied: six>=1.5 in /usr/local/lib/python3.11/dist-packages (from python-dateutil>=2.8.0->qiskit-ibmq-provider==0.19.2->qiskit==0.39.5) (1.17.0)\n",
            "Requirement already satisfied: charset-normalizer<4,>=2 in /usr/local/lib/python3.11/dist-packages (from requests>=2.19->qiskit-ibmq-provider==0.19.2->qiskit==0.39.5) (3.4.2)\n",
            "Requirement already satisfied: idna<4,>=2.5 in /usr/local/lib/python3.11/dist-packages (from requests>=2.19->qiskit-ibmq-provider==0.19.2->qiskit==0.39.5) (3.10)\n",
            "Requirement already satisfied: certifi>=2017.4.17 in /usr/local/lib/python3.11/dist-packages (from requests>=2.19->qiskit-ibmq-provider==0.19.2->qiskit==0.39.5) (2025.4.26)\n",
            "Requirement already satisfied: cryptography>=1.3 in /usr/local/lib/python3.11/dist-packages (from requests-ntlm>=1.1.0->qiskit-ibmq-provider==0.19.2->qiskit==0.39.5) (43.0.3)\n",
            "Requirement already satisfied: pyspnego>=0.4.0 in /usr/local/lib/python3.11/dist-packages (from requests-ntlm>=1.1.0->qiskit-ibmq-provider==0.19.2->qiskit==0.39.5) (0.11.2)\n",
            "Requirement already satisfied: rustworkx==0.16.0 in /usr/local/lib/python3.11/dist-packages (from retworkx>=0.11.0->qiskit-terra==0.22.4->qiskit==0.39.5) (0.16.0)\n",
            "Requirement already satisfied: pbr>=2.0.0 in /usr/local/lib/python3.11/dist-packages (from stevedore>=3.0.0->qiskit-terra==0.22.4->qiskit==0.39.5) (6.1.1)\n",
            "Requirement already satisfied: mpmath<1.4,>=1.1.0 in /usr/local/lib/python3.11/dist-packages (from sympy>=1.3->qiskit-terra==0.22.4->qiskit==0.39.5) (1.3.0)\n",
            "Requirement already satisfied: cffi>=1.12 in /usr/local/lib/python3.11/dist-packages (from cryptography>=1.3->requests-ntlm>=1.1.0->qiskit-ibmq-provider==0.19.2->qiskit==0.39.5) (1.17.1)\n",
            "Requirement already satisfied: setuptools in /usr/local/lib/python3.11/dist-packages (from pbr>=2.0.0->stevedore>=3.0.0->qiskit-terra==0.22.4->qiskit==0.39.5) (75.2.0)\n",
            "Requirement already satisfied: pycparser in /usr/local/lib/python3.11/dist-packages (from cffi>=1.12->cryptography>=1.3->requests-ntlm>=1.1.0->qiskit-ibmq-provider==0.19.2->qiskit==0.39.5) (2.22)\n",
            "Using cached qiskit_aer-0.11.2-cp311-cp311-manylinux_2_17_x86_64.manylinux2014_x86_64.whl (12.8 MB)\n",
            "Using cached qiskit_terra-0.22.4-cp311-cp311-manylinux_2_17_x86_64.manylinux2014_x86_64.whl (4.8 MB)\n",
            "Installing collected packages: qiskit-terra, qiskit-aer, qiskit\n",
            "Successfully installed qiskit-0.39.5 qiskit-aer-0.11.2 qiskit-terra-0.22.4\n"
          ]
        }
      ]
    },
    {
      "cell_type": "code",
      "source": [
        "import os\n",
        "os.kill(os.getpid(), 9)"
      ],
      "metadata": {
        "id": "GhiU9yoe7zkO"
      },
      "execution_count": null,
      "outputs": []
    },
    {
      "cell_type": "code",
      "source": [
        "from qiskit import QuantumCircuit, transpile\n",
        "from qiskit.providers.aer import AerSimulator\n",
        "print(\"Qiskit and AerSimulator imported successfully\")"
      ],
      "metadata": {
        "colab": {
          "base_uri": "https://localhost:8080/"
        },
        "id": "2Dntld4p4loF",
        "outputId": "58be9c3b-6a9c-463e-d864-6226ecd896da"
      },
      "execution_count": 1,
      "outputs": [
        {
          "output_type": "stream",
          "name": "stdout",
          "text": [
            "Qiskit and AerSimulator imported successfully\n"
          ]
        }
      ]
    },
    {
      "cell_type": "code",
      "source": [
        "!pip install pyeda"
      ],
      "metadata": {
        "colab": {
          "base_uri": "https://localhost:8080/"
        },
        "id": "OBxsDcQn9sNr",
        "outputId": "56dce215-999c-4244-e5d1-5f09c7ed4f19"
      },
      "execution_count": 2,
      "outputs": [
        {
          "output_type": "stream",
          "name": "stdout",
          "text": [
            "Collecting pyeda\n",
            "  Downloading pyeda-0.29.0.tar.gz (486 kB)\n",
            "\u001b[?25l     \u001b[90m━━━━━━━━━━━━━━━━━━━━━━━━━━━━━━━━━━━━━━━━\u001b[0m \u001b[32m0.0/486.8 kB\u001b[0m \u001b[31m?\u001b[0m eta \u001b[36m-:--:--\u001b[0m\r\u001b[2K     \u001b[91m━━━━━━━━━━━━━━━━━━━━━━━\u001b[0m\u001b[91m╸\u001b[0m\u001b[90m━━━━━━━━━━━━━━\u001b[0m \u001b[32m307.2/486.8 kB\u001b[0m \u001b[31m10.3 MB/s\u001b[0m eta \u001b[36m0:00:01\u001b[0m\r\u001b[2K     \u001b[90m━━━━━━━━━━━━━━━━━━━━━━━━━━━━━━━━━━━━━━\u001b[0m \u001b[32m486.8/486.8 kB\u001b[0m \u001b[31m10.3 MB/s\u001b[0m eta \u001b[36m0:00:00\u001b[0m\n",
            "\u001b[?25h  Preparing metadata (setup.py) ... \u001b[?25l\u001b[?25hdone\n",
            "Building wheels for collected packages: pyeda\n",
            "  Building wheel for pyeda (setup.py) ... \u001b[?25l\u001b[?25hdone\n",
            "  Created wheel for pyeda: filename=pyeda-0.29.0-cp311-cp311-linux_x86_64.whl size=625900 sha256=3ddd61af451ce08304f8781f690b9db55fdd7949682a6581a1dd1c90c1c24aff\n",
            "  Stored in directory: /root/.cache/pip/wheels/0e/95/33/49ca56535609f00570aa1da4ec98297ec06828361c0a37051f\n",
            "Successfully built pyeda\n",
            "Installing collected packages: pyeda\n",
            "Successfully installed pyeda-0.29.0\n"
          ]
        }
      ]
    },
    {
      "cell_type": "code",
      "source": [
        "from qiskit import QuantumCircuit\n",
        "from qiskit_aer.primitives import Sampler\n",
        "from tabulate import tabulate\n",
        "def test_fredkin(a, b, c):\n",
        "    qc = QuantumCircuit(3)\n",
        "    if a == 1:\n",
        "        qc.x(0)\n",
        "    if b == 1:\n",
        "        qc.x(1)\n",
        "    if c == 1:\n",
        "        qc.x(2)\n",
        "    qc.cswap(0, 1, 2)\n",
        "    qc.measure_all()\n",
        "    sampler = Sampler()\n",
        "    result = sampler.run(qc).result()\n",
        "    counts = result.quasi_dists[0]\n",
        "    output = max(counts, key=counts.get)\n",
        "    output_bin = format(int(output), '03b')[::-1]\n",
        "    return output_bin\n",
        "table = []\n",
        "for a in [0,1]:\n",
        "    for b in [0,1]:\n",
        "        for c in [0,1]:\n",
        "            output = test_fredkin(a, b, c)\n",
        "            table.append([f\"{a}{b}{c}\", output])\n",
        "print(tabulate(table, headers=[\"input (abc)\", \"outpot (q0q1q2)\"], tablefmt=\"grid\"))"
      ],
      "metadata": {
        "colab": {
          "base_uri": "https://localhost:8080/"
        },
        "id": "bBkfexYnfJXj",
        "outputId": "b1d39d0a-af63-4a4d-b706-708fb4ac55d1"
      },
      "execution_count": 3,
      "outputs": [
        {
          "output_type": "stream",
          "name": "stdout",
          "text": [
            "+---------------+-------------------+\n",
            "|   input (abc) |   outpot (q0q1q2) |\n",
            "+===============+===================+\n",
            "|           000 |               000 |\n",
            "+---------------+-------------------+\n",
            "|           001 |               001 |\n",
            "+---------------+-------------------+\n",
            "|           010 |               010 |\n",
            "+---------------+-------------------+\n",
            "|           011 |               011 |\n",
            "+---------------+-------------------+\n",
            "|           100 |               100 |\n",
            "+---------------+-------------------+\n",
            "|           101 |               110 |\n",
            "+---------------+-------------------+\n",
            "|           110 |               101 |\n",
            "+---------------+-------------------+\n",
            "|           111 |               111 |\n",
            "+---------------+-------------------+\n"
          ]
        }
      ]
    },
    {
      "cell_type": "code",
      "source": [
        "from qiskit import QuantumCircuit\n",
        "from qiskit_aer.primitives import Sampler\n",
        "import pandas as pd\n",
        "def test_mkg(a, b, c, d):\n",
        "    qc = QuantumCircuit(4)\n",
        "    if a: qc.x(0)\n",
        "    if b: qc.x(1)\n",
        "    if c: qc.x(2)\n",
        "    if d: qc.x(3)\n",
        "    qc.cx(0, 3)\n",
        "    qc.ccx(0, 1, 3)\n",
        "    qc.swap(1, 2)\n",
        "    qc.ccx(1, 2, 3)\n",
        "    qc.cx(2, 3)\n",
        "    qc.ccx(0, 2, 3)\n",
        "    qc.cx(0, 3)\n",
        "    qc.measure_all()\n",
        "    sampler = Sampler()\n",
        "    result = sampler.run(qc).result()\n",
        "    counts = result.quasi_dists[0]\n",
        "    return list(counts.keys())[0]\n",
        "results = []\n",
        "for a in [0, 1]:\n",
        "    for b in [0, 1]:\n",
        "        for c in [0, 1]:\n",
        "            for d in [0, 1]:\n",
        "                input_bin = f\"{a}{b}{c}{d}\"\n",
        "                output_int = test_mkg(a, b, c, d)\n",
        "                output_bin = f\"{output_int:04b}\"[::-1]  # q0q1q2q3\n",
        "                results.append([input_bin, output_bin])\n",
        "df = pd.DataFrame(results, columns=[\"input (abcd)\", \"outpot (q0q1q2q3)\"])\n",
        "print(df.to_markdown(index=False))"
      ],
      "metadata": {
        "colab": {
          "base_uri": "https://localhost:8080/"
        },
        "id": "u4Ck9BmCqVcm",
        "outputId": "72f3c4ab-ba97-43c9-e3e4-f79eb2f13933"
      },
      "execution_count": 4,
      "outputs": [
        {
          "output_type": "stream",
          "name": "stdout",
          "text": [
            "|   input (abcd) |   outpot (q0q1q2q3) |\n",
            "|---------------:|--------------------:|\n",
            "|           0000 |                0000 |\n",
            "|           0001 |                0001 |\n",
            "|           0010 |                0100 |\n",
            "|           0011 |                0101 |\n",
            "|           0100 |                0011 |\n",
            "|           0101 |                0010 |\n",
            "|           0110 |                0110 |\n",
            "|           0111 |                0111 |\n",
            "|           1000 |                1000 |\n",
            "|           1001 |                1001 |\n",
            "|           1010 |                1100 |\n",
            "|           1011 |                1101 |\n",
            "|           1100 |                1011 |\n",
            "|           1101 |                1010 |\n",
            "|           1110 |                1110 |\n",
            "|           1111 |                1111 |\n"
          ]
        }
      ]
    },
    {
      "cell_type": "code",
      "source": [
        "from qiskit import QuantumCircuit, Aer, transpile\n",
        "from qiskit.visualization import plot_histogram\n",
        "from qiskit.providers.aer import AerSimulator\n",
        "from tabulate import tabulate\n",
        "import matplotlib.pyplot as plt\n",
        "import numpy as np\n",
        "\n",
        "def run_custom_circuit(a, b, c):\n",
        "    qc = QuantumCircuit(3, 3)\n",
        "\n",
        "    # اعمال ورودی\n",
        "    if a: qc.x(0)\n",
        "    if b: qc.x(1)\n",
        "    if c: qc.x(2)\n",
        "\n",
        "    # گیت‌ها\n",
        "    qc.ccx(0, 1, 2)\n",
        "    qc.cx(0, 1)\n",
        "\n",
        "    qc.measure([0,1,2], [0,1,2])\n",
        "    return qc\n",
        "\n",
        "simulator = AerSimulator()\n",
        "table = []\n",
        "\n",
        "# اجرا برای همه ورودی‌های 3 بیتی\n",
        "for a in [0,1]:\n",
        "    for b in [0,1]:\n",
        "        for c in [0,1]:\n",
        "            qc = run_custom_circuit(a, b, c)\n",
        "            tqc = transpile(qc, simulator)\n",
        "            result = simulator.run(tqc).result()\n",
        "            counts = result.get_counts()\n",
        "            output = max(counts, key=counts.get)\n",
        "            table.append([f\"{a}{b}{c}\", output])\n",
        "\n",
        "# جدول درستی\n",
        "print(tabulate(table, headers=[\"input (abc)\", \"خروجی (q0q1q2)\"], tablefmt=\"grid\"))"
      ],
      "metadata": {
        "colab": {
          "base_uri": "https://localhost:8080/"
        },
        "id": "DwERZelWaHvM",
        "outputId": "ecd2b7b0-cb7f-44f3-e92f-c9106b4470a6"
      },
      "execution_count": 9,
      "outputs": [
        {
          "output_type": "stream",
          "name": "stdout",
          "text": [
            "+---------------+------------------+\n",
            "|   input (abc) |   خروجی (q0q1q2) |\n",
            "+===============+==================+\n",
            "|           000 |              000 |\n",
            "+---------------+------------------+\n",
            "|           001 |              100 |\n",
            "+---------------+------------------+\n",
            "|           010 |              010 |\n",
            "+---------------+------------------+\n",
            "|           011 |              110 |\n",
            "+---------------+------------------+\n",
            "|           100 |              011 |\n",
            "+---------------+------------------+\n",
            "|           101 |              111 |\n",
            "+---------------+------------------+\n",
            "|           110 |              101 |\n",
            "+---------------+------------------+\n",
            "|           111 |              001 |\n",
            "+---------------+------------------+\n"
          ]
        }
      ]
    },
    {
      "cell_type": "code",
      "source": [
        "pip install pylatexenc"
      ],
      "metadata": {
        "colab": {
          "base_uri": "https://localhost:8080/"
        },
        "id": "phj2OVU0Zryl",
        "outputId": "b7159ce6-0e24-45ea-fa36-68b879e59848"
      },
      "execution_count": 11,
      "outputs": [
        {
          "output_type": "stream",
          "name": "stdout",
          "text": [
            "Collecting pylatexenc\n",
            "  Downloading pylatexenc-2.10.tar.gz (162 kB)\n",
            "\u001b[?25l     \u001b[90m━━━━━━━━━━━━━━━━━━━━━━━━━━━━━━━━━━━━━━━━\u001b[0m \u001b[32m0.0/162.6 kB\u001b[0m \u001b[31m?\u001b[0m eta \u001b[36m-:--:--\u001b[0m\r\u001b[2K     \u001b[91m━━━━━━━━━━━━━━━━━━━━━━━━━━━━━━━━━━━━\u001b[0m\u001b[91m╸\u001b[0m\u001b[90m━━\u001b[0m \u001b[32m153.6/162.6 kB\u001b[0m \u001b[31m5.9 MB/s\u001b[0m eta \u001b[36m0:00:01\u001b[0m\r\u001b[2K     \u001b[90m━━━━━━━━━━━━━━━━━━━━━━━━━━━━━━━━━━━━━━━\u001b[0m \u001b[32m162.6/162.6 kB\u001b[0m \u001b[31m4.4 MB/s\u001b[0m eta \u001b[36m0:00:00\u001b[0m\n",
            "\u001b[?25h  Preparing metadata (setup.py) ... \u001b[?25l\u001b[?25hdone\n",
            "Building wheels for collected packages: pylatexenc\n",
            "  Building wheel for pylatexenc (setup.py) ... \u001b[?25l\u001b[?25hdone\n",
            "  Created wheel for pylatexenc: filename=pylatexenc-2.10-py3-none-any.whl size=136817 sha256=be474501b05e9dcc44ddbfc13b228d752f8f64125e8c181ab8055b8545d4402e\n",
            "  Stored in directory: /root/.cache/pip/wheels/b1/7a/33/9fdd892f784ed4afda62b685ae3703adf4c91aa0f524c28f03\n",
            "Successfully built pylatexenc\n",
            "Installing collected packages: pylatexenc\n",
            "Successfully installed pylatexenc-2.10\n"
          ]
        }
      ]
    },
    {
      "cell_type": "code",
      "source": [
        "from qiskit import QuantumCircuit, Aer, transpile\n",
        "from qiskit.circuit.library import U1Gate\n",
        "import numpy as np\n",
        "from qiskit.visualization import plot_histogram\n",
        "import matplotlib.pyplot as plt\n",
        "v_gate = U1Gate(np.pi / 2)\n",
        "vdg_gate = U1Gate(-np.pi / 2)\n",
        "cv_gate = v_gate.control()\n",
        "cvdg_gate = vdg_gate.control()\n",
        "\n",
        "sim = Aer.get_backend('aer_simulator')\n",
        "\n",
        "results = []\n",
        "\n",
        "print(\"input (abcd)    output (q0q1q2q3)\")\n",
        "print(\"---------------- ------------------\")\n",
        "\n",
        "for i in range(16):\n",
        "    qc = QuantumCircuit(4, 4)\n",
        "\n",
        "    bits = f\"{i:04b}\"\n",
        "    for idx, bit in enumerate(reversed(bits)):\n",
        "        if bit == '1':\n",
        "            qc.x(idx)\n",
        "\n",
        "    qc.append(cv_gate, [0, 3])\n",
        "    qc.append(cv_gate, [1, 3])\n",
        "    qc.append(cv_gate, [2, 3])\n",
        "    qc.cx(0, 2)\n",
        "    qc.cx(0, 2)\n",
        "    qc.append(cvdg_gate, [2, 3])\n",
        "\n",
        "    qc.measure(range(4), range(4))\n",
        "\n",
        "    compiled = transpile(qc, sim)\n",
        "    job = sim.run(compiled, shots=1)\n",
        "    result = job.result()\n",
        "    counts = result.get_counts()\n",
        "    output = list(counts.keys())[0]\n",
        "\n",
        "    print(f\"      {bits}          {output}\")\n",
        "\n",
        "qc = QuantumCircuit(4, 4)\n",
        "bits = '1111'\n",
        "for idx, bit in enumerate(reversed(bits)):\n",
        "    if bit == '1':\n",
        "        qc.x(idx)"
      ],
      "metadata": {
        "colab": {
          "base_uri": "https://localhost:8080/"
        },
        "id": "1Lt5RD890dDb",
        "outputId": "557ea7ae-3c26-4c23-daeb-23e21080924d"
      },
      "execution_count": 15,
      "outputs": [
        {
          "output_type": "stream",
          "name": "stdout",
          "text": [
            "input (abcd)    output (q0q1q2q3)\n",
            "---------------- ------------------\n",
            "      0000          0000\n",
            "      0001          0001\n",
            "      0010          0010\n",
            "      0011          0011\n",
            "      0100          0100\n",
            "      0101          0101\n",
            "      0110          0110\n",
            "      0111          0111\n",
            "      1000          1000\n",
            "      1001          1001\n",
            "      1010          1010\n",
            "      1011          1011\n",
            "      1100          1100\n",
            "      1101          1101\n",
            "      1110          1110\n",
            "      1111          1111\n"
          ]
        }
      ]
    },
    {
      "cell_type": "code",
      "source": [
        "from qiskit import QuantumCircuit, Aer, transpile\n",
        "from qiskit.circuit.library import U1Gate\n",
        "import numpy as np\n",
        "\n",
        "v_gate = U1Gate(np.pi / 2)\n",
        "vdg_gate = U1Gate(-np.pi / 2)\n",
        "cv_gate = v_gate.control()\n",
        "cvdg_gate = vdg_gate.control()\n",
        "\n",
        "sim = Aer.get_backend('aer_simulator')\n",
        "\n",
        "print(\"input (abc)    output (q0q1q2)\")\n",
        "print(\"---------------- ----------------\")\n",
        "\n",
        "for i in range(8):\n",
        "    qc = QuantumCircuit(3, 3)\n",
        "\n",
        "    bits = f\"{i:03b}\"\n",
        "    for idx, bit in enumerate(reversed(bits)):\n",
        "        if bit == '1':\n",
        "            qc.x(idx)\n",
        "\n",
        "    qc.cx(1, 0)\n",
        "    qc.append(cv_gate, [0, 1])\n",
        "    qc.append(cvdg_gate, [2, 1])\n",
        "    qc.cx(0, 2)\n",
        "    qc.append(cvdg_gate, [2, 1])\n",
        "    qc.cx(1, 2)\n",
        "    qc.cx(1, 0)\n",
        "\n",
        "    qc.measure(range(3), range(3))\n",
        "\n",
        "    compiled = transpile(qc, sim)\n",
        "    job = sim.run(compiled, shots=1)\n",
        "    result = job.result()\n",
        "    counts = result.get_counts()\n",
        "    output = list(counts.keys())[0]\n",
        "\n",
        "    output_display = output[::-1]\n",
        "\n",
        "    print(f\"      {bits}          {output_display}\")\n",
        "\n",
        "qc = QuantumCircuit(3, 3)\n",
        "bits = '111'\n",
        "for idx, bit in enumerate(reversed(bits)):\n",
        "    if bit == '1':\n",
        "        qc.x(idx)\n",
        "\n",
        "qc.cx(1, 0)\n",
        "qc.append(cv_gate, [0, 1])\n",
        "qc.append(cvdg_gate, [2, 1])\n",
        "qc.cx(0, 2)\n",
        "qc.append(cvdg_gate, [2, 1])\n",
        "qc.cx(1, 2)\n",
        "qc.cx(1, 0)\n",
        "qc.measure(range(3), range(3))\n",
        "\n",
        "qc.draw(output='mpl')"
      ],
      "metadata": {
        "colab": {
          "base_uri": "https://localhost:8080/",
          "height": 494
        },
        "id": "sw92EA5CBlDv",
        "outputId": "658731df-f1a4-4e76-87d8-b5448ad1b418"
      },
      "execution_count": null,
      "outputs": [
        {
          "output_type": "stream",
          "name": "stdout",
          "text": [
            "ورودی (abc)    خروجی (q0q1q2)\n",
            "---------------- ----------------\n",
            "      000          000\n",
            "      001          101\n",
            "      010          010\n",
            "      011          111\n",
            "      100          001\n",
            "      101          100\n",
            "      110          011\n",
            "      111          110\n"
          ]
        },
        {
          "output_type": "execute_result",
          "data": {
            "text/plain": [
              "<Figure size 1207.22x367.889 with 1 Axes>"
            ],
            "image/png": "[encoded data removed]"
          },
          "metadata": {},
          "execution_count": 18
        }
      ]
    }
  ]
}